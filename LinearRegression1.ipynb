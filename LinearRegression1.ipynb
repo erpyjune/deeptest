{
  "nbformat": 4,
  "nbformat_minor": 0,
  "metadata": {
    "colab": {
      "name": "LinearRegression1.ipynb",
      "provenance": [],
      "authorship_tag": "ABX9TyM3spc1dC0jJBoW30ndR2zg",
      "include_colab_link": true
    },
    "kernelspec": {
      "name": "python3",
      "display_name": "Python 3"
    },
    "language_info": {
      "name": "python"
    }
  },
  "cells": [
    {
      "cell_type": "markdown",
      "metadata": {
        "id": "view-in-github",
        "colab_type": "text"
      },
      "source": [
        "<a href=\"https://colab.research.google.com/github/erpyjune/deeptest/blob/main/LinearRegression1.ipynb\" target=\"_parent\"><img src=\"https://colab.research.google.com/assets/colab-badge.svg\" alt=\"Open In Colab\"/></a>"
      ]
    },
    {
      "cell_type": "code",
      "metadata": {
        "id": "JP1bPCClvtUh"
      },
      "source": [
        "import tensorflow.compat.v1 as tf\n",
        "import matplotlib.pyplot as plt\n",
        "\n",
        "tf.disable_v2_behavior()\n",
        "tf.set_random_seed(777)  # for reproducibility\n",
        "\n",
        "# X and Y data\n",
        "x_train = [1, 2, 3]\n",
        "y_train = [1, 2, 3]\n",
        "\n",
        "# Try to find values for W and b to compute y_data = x_data * W + b\n",
        "# We know that W should be 1 and b should be 0\n",
        "# But let TensorFlow figure it out\n",
        "W = tf.Variable(tf.random.normal([1]), name=\"weight\")\n",
        "b = tf.Variable(tf.random.normal([1]), name=\"bias\")\n",
        "\n",
        "# Our hypothesis XW+b\n",
        "hypothesis = x_train * W + b\n",
        "\n",
        "# cost/loss function\n",
        "cost = tf.reduce_mean(tf.square(hypothesis - y_train))\n",
        "\n",
        "# optimizer\n",
        "train = tf.train.GradientDescentOptimizer(learning_rate=0.01).minimize(cost)\n",
        "#train = tf.train.GradientDescentOptimizer(learning_rate=0.01).minimize(cost)\n",
        "\n",
        "all_W_val=[]\n",
        "all_cost_val=[]\n",
        "\n",
        "# Launch the graph in a session.\n",
        "with tf.Session() as sess:\n",
        "    # Initializes global variables in the graph.\n",
        "    sess.run(tf.global_variables_initializer())\n",
        "\n",
        "    # Fit the line\n",
        "    for step in range(2001):\n",
        "        _, cost_val, W_val, b_val = sess.run([train, cost, W, b])\n",
        "\n",
        "        all_W_val.append(W_val)\n",
        "        all_cost_val.append(cost_val)\n",
        "\n",
        "        if step % 20 == 0:\n",
        "            print(step, cost_val, W_val, b_val)"
      ],
      "execution_count": null,
      "outputs": []
    },
    {
      "cell_type": "code",
      "metadata": {
        "colab": {
          "base_uri": "https://localhost:8080/",
          "height": 265
        },
        "id": "UvTBA8IQx7V5",
        "outputId": "34e248c9-5880-4577-c35e-39f1c081289f"
      },
      "source": [
        "plt.plot(all_W_val, all_cost_val)\n",
        "plt.show()"
      ],
      "execution_count": 17,
      "outputs": [
        {
          "output_type": "display_data",
          "data": {
            "image/png": "[encoded data removed]",
            "text/plain": [
              "<Figure size 432x288 with 1 Axes>"
            ]
          },
          "metadata": {
            "tags": [],
            "needs_background": "light"
          }
        }
      ]
    }
  ]
}