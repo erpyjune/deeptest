{
  "nbformat": 4,
  "nbformat_minor": 0,
  "metadata": {
    "colab": {
      "name": "Univ_SuccOrFail_keras.ipynb",
      "provenance": [],
      "authorship_tag": "ABX9TyPSNVPeBbT5LUoHgLqYpOl9",
      "include_colab_link": true
    },
    "kernelspec": {
      "name": "python3",
      "display_name": "Python 3"
    },
    "language_info": {
      "name": "python"
    }
  },
  "cells": [
    {
      "cell_type": "markdown",
      "metadata": {
        "id": "view-in-github",
        "colab_type": "text"
      },
      "source": [
        "<a href=\"https://colab.research.google.com/github/erpyjune/deeptest/blob/main/Univ_SuccOrFail_keras.ipynb\" target=\"_parent\"><img src=\"https://colab.research.google.com/assets/colab-badge.svg\" alt=\"Open In Colab\"/></a>"
      ]
    },
    {
      "cell_type": "code",
      "execution_count": 1,
      "metadata": {
        "colab": {
          "base_uri": "https://localhost:8080/"
        },
        "id": "VmXFvt6QCI-J",
        "outputId": "1c10ecab-be80-4773-fb87-f503e0af2513"
      },
      "outputs": [
        {
          "output_type": "stream",
          "name": "stdout",
          "text": [
            "tf.Tensor(3, shape=(), dtype=int32)\n"
          ]
        }
      ],
      "source": [
        "import tensorflow as tf\n",
        "\n",
        "model = tf.keras.models.Sequential([\n",
        "    tf.keras.layers.Dense(64, activation='tanh'), ## 'hanh', 'sigmoid'\n",
        "    tf.keras.layers.Dense(128, activation='tanh'),\n",
        "    tf.keras.layers.Dense(1, activation='sigmoid'),                            \n",
        "])\n",
        "\n",
        "model.compile(optimizer='adam', loss='binary_crossentropy', metrics='accuracy')\n",
        "\n",
        "model.fit(x_data, y_data, epochs=10) # x_data: 변수값, y_data: 정답값, epochs: 학습횟수"
      ]
    },
    {
      "cell_type": "code",
      "source": [
        "from google.colab import files\n",
        "\n",
        "uploaded = files.uploaded()\n",
        "\n",
        "for fn in uploaded.keys():\n",
        "   print('User uploaded file \"{name}\" with length {length} bytes'.format(name=fn, length=len(uploaded[fn])))"
      ],
      "metadata": {
        "id": "0fs8v4OkLD0a"
      },
      "execution_count": null,
      "outputs": []
    }
  ]
}