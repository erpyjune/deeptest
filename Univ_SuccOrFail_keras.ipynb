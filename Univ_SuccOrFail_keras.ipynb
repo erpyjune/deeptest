{
  "nbformat": 4,
  "nbformat_minor": 0,
  "metadata": {
    "colab": {
      "name": "Univ_SuccOrFail_keras.ipynb",
      "provenance": [],
      "authorship_tag": "ABX9TyMwcDc7R2fpcrMM6wGzEomk",
      "include_colab_link": true
    },
    "kernelspec": {
      "name": "python3",
      "display_name": "Python 3"
    },
    "language_info": {
      "name": "python"
    }
  },
  "cells": [
    {
      "cell_type": "markdown",
      "metadata": {
        "id": "view-in-github",
        "colab_type": "text"
      },
      "source": [
        "<a href=\"https://colab.research.google.com/github/erpyjune/deeptest/blob/main/Univ_SuccOrFail_keras.ipynb\" target=\"_parent\"><img src=\"https://colab.research.google.com/assets/colab-badge.svg\" alt=\"Open In Colab\"/></a>"
      ]
    },
    {
      "cell_type": "code",
      "execution_count": 4,
      "metadata": {
        "colab": {
          "base_uri": "https://localhost:8080/"
        },
        "id": "VmXFvt6QCI-J",
        "outputId": "886e397a-65ad-4ee8-b1da-edc89093dd29"
      },
      "outputs": [
        {
          "output_type": "stream",
          "name": "stdout",
          "text": [
            "admit    0\n",
            "gre      1\n",
            "gpa      0\n",
            "rank     0\n",
            "dtype: int64\n",
            "admit    0\n",
            "gre      0\n",
            "gpa      0\n",
            "rank     0\n",
            "dtype: int64\n",
            "admit    0\n",
            "gre      0\n",
            "gpa      0\n",
            "rank     0\n",
            "dtype: int64\n"
          ]
        }
      ],
      "source": [
        "import tensorflow as tf\n",
        "import pandas as pd\n",
        "\n",
        "data = pd.read_csv('/content/sample_data/gpascore.csv')\n",
        "# print(data)\n",
        "print(data.isnull().sum()) # 빈값을 카운트\n",
        "\n",
        "data = data.dropna() # 빈값을 없애버림\n",
        "print(data.isnull().sum())\n",
        "\n",
        "# data = data.fillna(100) # 빈값을 100으로 채움\n",
        "# print(data.isnull().sum())\n",
        "\n",
        "# model = tf.keras.models.Sequential([\n",
        "#     tf.keras.layers.Dense(64, activation='tanh'), ## 'hanh', 'sigmoid'\n",
        "#     tf.keras.layers.Dense(128, activation='tanh'),\n",
        "#     tf.keras.layers.Dense(1, activation='sigmoid'),                            \n",
        "# ])\n",
        "\n",
        "# model.compile(optimizer='adam', loss='binary_crossentropy', metrics='accuracy')\n",
        "\n",
        "# model.fit(x_data, y_data, epochs=10) # x_data: 변수값, y_data: 정답값, epochs: 학습횟수"
      ]
    }
  ]
}