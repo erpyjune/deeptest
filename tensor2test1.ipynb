{
  "nbformat": 4,
  "nbformat_minor": 0,
  "metadata": {
    "colab": {
      "name": "tensor2test1.ipynb",
      "provenance": [],
      "authorship_tag": "ABX9TyPCHFjemYtcJAe423lHYyCH",
      "include_colab_link": true
    },
    "kernelspec": {
      "name": "python3",
      "display_name": "Python 3"
    },
    "language_info": {
      "name": "python"
    }
  },
  "cells": [
    {
      "cell_type": "markdown",
      "metadata": {
        "id": "view-in-github",
        "colab_type": "text"
      },
      "source": [
        "<a href=\"https://colab.research.google.com/github/erpyjune/deeptest/blob/main/tensor2test1.ipynb\" target=\"_parent\"><img src=\"https://colab.research.google.com/assets/colab-badge.svg\" alt=\"Open In Colab\"/></a>"
      ]
    },
    {
      "cell_type": "code",
      "execution_count": 17,
      "metadata": {
        "colab": {
          "base_uri": "https://localhost:8080/"
        },
        "id": "Ofig_tOh4_mY",
        "outputId": "1f8e1c40-7855-443d-ef94-e182ec090868"
      },
      "outputs": [
        {
          "output_type": "stream",
          "name": "stdout",
          "text": [
            "tf.Tensor([ 9 11 13], shape=(3,), dtype=int32)\n"
          ]
        }
      ],
      "source": [
        "import tensorflow as tf\n",
        "\n",
        "tensor = tf.constant([3,4,5]) # 상수 선언\n",
        "tensor2 = tf.constant([6,7,8])\n",
        "print(tensor + tensor2)"
      ]
    },
    {
      "cell_type": "code",
      "execution_count": 18,
      "metadata": {
        "colab": {
          "base_uri": "https://localhost:8080/"
        },
        "outputId": "ee732f05-054c-4654-e028-4ee07b8aa598",
        "id": "SISo1m646pxA"
      },
      "outputs": [
        {
          "output_type": "stream",
          "name": "stdout",
          "text": [
            "tf.Tensor(\n",
            "[[1 2]\n",
            " [3 4]], shape=(2, 2), dtype=int32)\n"
          ]
        }
      ],
      "source": [
        "import tensorflow as tf\n",
        "\n",
        "tensor = tf.constant([\n",
        "                      [1,2],[3,4] ] )\n",
        "print(tensor)"
      ]
    },
    {
      "cell_type": "code",
      "source": [
        ""
      ],
      "metadata": {
        "id": "mh7m6nNX8HWM"
      },
      "execution_count": null,
      "outputs": []
    },
    {
      "cell_type": "code",
      "execution_count": 8,
      "metadata": {
        "colab": {
          "base_uri": "https://localhost:8080/"
        },
        "outputId": "75264d0f-fe1a-4bdd-e9d5-c791b27f725b",
        "id": "ZGcAWA-q8KZY"
      },
      "outputs": [
        {
          "output_type": "stream",
          "name": "stdout",
          "text": [
            "tf.Tensor(\n",
            "[[18 28 40]\n",
            " [ 6 14 24]], shape=(2, 3), dtype=int32)\n"
          ]
        }
      ],
      "source": [
        "import tensorflow as tf\n",
        "\n",
        "tensor = tf.constant([ [3,4,5], [1,2,3] ])  # 상수\n",
        "tensor2 = tf.constant([6,7,8])\n",
        "print(tensor * tensor2)"
      ]
    },
    {
      "cell_type": "code",
      "source": [
        "import tensorflow as tf\n",
        "\n",
        "tensor = tf.zeros(100) # 0값으로 100개 만들기\n",
        "tensor2 = tf.zeros([7,6]) # 7, 6 행렬 0으로 채워 넣기\n",
        "tensor3 = tf.zeros([3,4])\n",
        "tensor4 = tf.zeros([3,4,5])\n",
        "print(tensor)\n",
        "print(tensor2)\n",
        "print(tensor3)\n",
        "print(tensor4)\n",
        "print(tensor4.shape)"
      ],
      "metadata": {
        "colab": {
          "base_uri": "https://localhost:8080/"
        },
        "id": "sPQBQ_9K8_i8",
        "outputId": "9272575d-a3a1-454a-d9a2-e3ff67bfbc97"
      },
      "execution_count": 14,
      "outputs": [
        {
          "output_type": "stream",
          "name": "stdout",
          "text": [
            "tf.Tensor(\n",
            "[0. 0. 0. 0. 0. 0. 0. 0. 0. 0. 0. 0. 0. 0. 0. 0. 0. 0. 0. 0. 0. 0. 0. 0.\n",
            " 0. 0. 0. 0. 0. 0. 0. 0. 0. 0. 0. 0. 0. 0. 0. 0. 0. 0. 0. 0. 0. 0. 0. 0.\n",
            " 0. 0. 0. 0. 0. 0. 0. 0. 0. 0. 0. 0. 0. 0. 0. 0. 0. 0. 0. 0. 0. 0. 0. 0.\n",
            " 0. 0. 0. 0. 0. 0. 0. 0. 0. 0. 0. 0. 0. 0. 0. 0. 0. 0. 0. 0. 0. 0. 0. 0.\n",
            " 0. 0. 0. 0.], shape=(100,), dtype=float32)\n",
            "tf.Tensor(\n",
            "[[0. 0. 0. 0. 0. 0.]\n",
            " [0. 0. 0. 0. 0. 0.]\n",
            " [0. 0. 0. 0. 0. 0.]\n",
            " [0. 0. 0. 0. 0. 0.]\n",
            " [0. 0. 0. 0. 0. 0.]\n",
            " [0. 0. 0. 0. 0. 0.]\n",
            " [0. 0. 0. 0. 0. 0.]], shape=(7, 6), dtype=float32)\n",
            "tf.Tensor(\n",
            "[[0. 0. 0. 0.]\n",
            " [0. 0. 0. 0.]\n",
            " [0. 0. 0. 0.]], shape=(3, 4), dtype=float32)\n",
            "tf.Tensor(\n",
            "[[[0. 0. 0. 0. 0.]\n",
            "  [0. 0. 0. 0. 0.]\n",
            "  [0. 0. 0. 0. 0.]\n",
            "  [0. 0. 0. 0. 0.]]\n",
            "\n",
            " [[0. 0. 0. 0. 0.]\n",
            "  [0. 0. 0. 0. 0.]\n",
            "  [0. 0. 0. 0. 0.]\n",
            "  [0. 0. 0. 0. 0.]]\n",
            "\n",
            " [[0. 0. 0. 0. 0.]\n",
            "  [0. 0. 0. 0. 0.]\n",
            "  [0. 0. 0. 0. 0.]\n",
            "  [0. 0. 0. 0. 0.]]], shape=(3, 4, 5), dtype=float32)\n",
            "(3, 4, 5)\n"
          ]
        }
      ]
    },
    {
      "cell_type": "code",
      "source": [
        "import tensorflow as tf\n",
        "\n",
        "w = tf.Variable(0) # 변수 선언 & 초기값\n",
        "w2 = tf.Variable(1.0) # 변수 선언 & 초기값\n",
        "\n",
        "# tensor value\n",
        "print(w, w2)\n"
      ],
      "metadata": {
        "colab": {
          "base_uri": "https://localhost:8080/"
        },
        "id": "pcffI0KB_pEQ",
        "outputId": "4bb6b367-2281-4e43-b99f-d9dbdee62cbf"
      },
      "execution_count": 21,
      "outputs": [
        {
          "output_type": "stream",
          "name": "stdout",
          "text": [
            "<tf.Variable 'Variable:0' shape=() dtype=int32, numpy=0> <tf.Variable 'Variable:0' shape=() dtype=float32, numpy=1.0>\n"
          ]
        }
      ]
    },
    {
      "cell_type": "code",
      "source": [
        "import tensorflow as tf\n",
        "\n",
        "w = tf.Variable(3.14) # 변수 선언 & 초기값\n",
        "w2 = tf.Variable(5.77) # 변수 선언 & 초기값\n",
        "\n",
        "# 일반적인 값으로 불러올수 있다.\n",
        "print(w.numpy(), w2.numpy())\n"
      ],
      "metadata": {
        "colab": {
          "base_uri": "https://localhost:8080/"
        },
        "outputId": "17319cce-078c-42ae-a995-7b3156877025",
        "id": "6mnwVjhDAobb"
      },
      "execution_count": 22,
      "outputs": [
        {
          "output_type": "stream",
          "name": "stdout",
          "text": [
            "3.14 5.77\n"
          ]
        }
      ]
    },
    {
      "cell_type": "code",
      "source": [
        ""
      ],
      "metadata": {
        "id": "IXyFJ9e_BPLw"
      },
      "execution_count": null,
      "outputs": []
    },
    {
      "cell_type": "code",
      "source": [
        "import tensorflow as tf\n",
        "\n",
        "w = tf.Variable(1.5) # 변수 선언 & 초기값\n",
        "w2 = tf.Variable(1.0) # 변수 선언 & 초기값\n",
        "\n",
        "# tensor value\n",
        "print(w, w2)\n",
        "\n",
        "# tensor 변수에 값을 다시 저장\n",
        "w.assign(3.77)\n",
        "w2.assign(4.13)\n",
        "\n",
        "print(w, w2)\n"
      ],
      "metadata": {
        "colab": {
          "base_uri": "https://localhost:8080/"
        },
        "outputId": "a789cbdb-e457-4c54-cad7-0cf5dfa6a3e1",
        "id": "XjDXKh06BRSK"
      },
      "execution_count": 24,
      "outputs": [
        {
          "output_type": "stream",
          "name": "stdout",
          "text": [
            "<tf.Variable 'Variable:0' shape=() dtype=float32, numpy=1.5> <tf.Variable 'Variable:0' shape=() dtype=float32, numpy=1.0>\n",
            "<tf.Variable 'Variable:0' shape=() dtype=float32, numpy=3.77> <tf.Variable 'Variable:0' shape=() dtype=float32, numpy=4.13>\n"
          ]
        }
      ]
    }
  ]
}